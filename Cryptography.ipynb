{
 "cells": [
  {
   "cell_type": "code",
   "execution_count": 3,
   "metadata": {},
   "outputs": [
    {
     "data": {
      "text/plain": [
       "b'gAAAAABfPjS2aPeT9n8T2bGnvEdskp3hIrfwThnVcJ9lFIUpPola9kIwUMflm8vfilnLbqsT8nzCPderqi6gef_0IUt0AmxAbZiw0SpmC4iT_u_F0VRGjI8='"
      ]
     },
     "execution_count": 3,
     "metadata": {},
     "output_type": "execute_result"
    }
   ],
   "source": [
    "from cryptography.fernet import Fernet\n",
    "key = Fernet.generate_key()\n",
    "f = Fernet(key)\n",
    "token = f.encrypt(b\"my deep dark secret\")\n",
    "token"
   ]
  },
  {
   "cell_type": "code",
   "execution_count": 4,
   "metadata": {},
   "outputs": [
    {
     "data": {
      "text/plain": [
       "b'my deep dark secret'"
      ]
     },
     "execution_count": 4,
     "metadata": {},
     "output_type": "execute_result"
    }
   ],
   "source": [
    "f.decrypt(b'gAAAAABfPjS2aPeT9n8T2bGnvEdskp3hIrfwThnVcJ9lFIUpPola9kIwUMflm8vfilnLbqsT8nzCPderqi6gef_0IUt0AmxAbZiw0SpmC4iT_u_F0VRGjI8=')\n",
    "b'my deep dark secret'"
   ]
  },
  {
   "cell_type": "code",
   "execution_count": 5,
   "metadata": {},
   "outputs": [],
   "source": [
    "Fernet.encrypt()"
   ]
  }
 ],
 "metadata": {
  "kernelspec": {
   "display_name": "Python 3",
   "language": "python",
   "name": "python3"
  },
  "language_info": {
   "codemirror_mode": {
    "name": "ipython",
    "version": 3
   },
   "file_extension": ".py",
   "mimetype": "text/x-python",
   "name": "python",
   "nbconvert_exporter": "python",
   "pygments_lexer": "ipython3",
   "version": "3.8.3"
  }
 },
 "nbformat": 4,
 "nbformat_minor": 4
}
